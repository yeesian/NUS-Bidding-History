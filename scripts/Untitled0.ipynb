{
 "metadata": {
  "name": "Untitled0"
 },
 "nbformat": 3,
 "nbformat_minor": 0,
 "worksheets": [
  {
   "cells": [
    {
     "cell_type": "code",
     "collapsed": false,
     "input": [
      "import pandas as pd\n",
      "print(pd.__version__)"
     ],
     "language": "python",
     "metadata": {},
     "outputs": [
      {
       "output_type": "stream",
       "stream": "stdout",
       "text": [
        "0.11.0\n"
       ]
      }
     ],
     "prompt_number": 1
    },
    {
     "cell_type": "code",
     "collapsed": false,
     "input": [
      "bidding_activity = pd.read_csv('nus_bidding_activity.csv',parse_dates=['Time_of_Bid'])\n",
      "bidding_activity"
     ],
     "language": "python",
     "metadata": {},
     "outputs": [
      {
       "html": [
        "<pre>\n",
        "&ltclass 'pandas.core.frame.DataFrame'&gt\n",
        "Int64Index: 77944 entries, 0 to 77943\n",
        "Data columns (total 12 columns):\n",
        "Bid_Amount      77944  non-null values\n",
        "Bid_ID          77944  non-null values\n",
        "Time_of_Bid     77944  non-null values\n",
        "Bid_Status      77944  non-null values\n",
        "Group           77944  non-null values\n",
        "Faculty         77944  non-null values\n",
        "Student_Type    39165  non-null values\n",
        "Account         68640  non-null values\n",
        "Module          77944  non-null values\n",
        "Bid_Round       77944  non-null values\n",
        "Acad_Yr         77944  non-null values\n",
        "Semester        77944  non-null values\n",
        "dtypes: datetime64[ns](1), int64(3), object(8)\n",
        "</pre>"
       ],
       "output_type": "pyout",
       "prompt_number": 2,
       "text": [
        "<class 'pandas.core.frame.DataFrame'>\n",
        "Int64Index: 77944 entries, 0 to 77943\n",
        "Data columns (total 12 columns):\n",
        "Bid_Amount      77944  non-null values\n",
        "Bid_ID          77944  non-null values\n",
        "Time_of_Bid     77944  non-null values\n",
        "Bid_Status      77944  non-null values\n",
        "Group           77944  non-null values\n",
        "Faculty         77944  non-null values\n",
        "Student_Type    39165  non-null values\n",
        "Account         68640  non-null values\n",
        "Module          77944  non-null values\n",
        "Bid_Round       77944  non-null values\n",
        "Acad_Yr         77944  non-null values\n",
        "Semester        77944  non-null values\n",
        "dtypes: datetime64[ns](1), int64(3), object(8)"
       ]
      }
     ],
     "prompt_number": 2
    },
    {
     "cell_type": "code",
     "collapsed": false,
     "input": [
      "print(bidding_activity.head())"
     ],
     "language": "python",
     "metadata": {},
     "outputs": [
      {
       "output_type": "stream",
       "stream": "stdout",
       "text": [
        "   Bid_Amount        Bid_ID         Time_of_Bid Bid_Status        Group  \\\n",
        "0         100  B00004391322 2013-01-09 23:37:42          S  LECTURE SL1   \n",
        "1           1  B00004393160 2013-01-10 08:55:07          S  LECTURE SL1   \n",
        "2         843  B00004400492 2013-01-10 13:24:33          S    LECTURE 1   \n",
        "3         500  B00004371243 2013-01-07 09:49:30          S    LECTURE 1   \n",
        "4         500  B00004380361 2013-01-09 11:23:27          S    LECTURE 1   \n",
        "\n",
        "                  Faculty Student_Type Account   Module Bid_Round   Acad_Yr  \\\n",
        "0                 SCIENCE          NaN     NaN  LSM3224        2A  20122013   \n",
        "1                 SCIENCE          NaN     NaN  LSM3224        2A  20122013   \n",
        "2  ARTS & SOCIAL SCIENCES          NaN     NaN   SC2211        2A  20122013   \n",
        "3  ARTS & SOCIAL SCIENCES          NaN     NaN   SC2211        2A  20122013   \n",
        "4  ARTS & SOCIAL SCIENCES          NaN     NaN   SC2211        2A  20122013   \n",
        "\n",
        "   Semester  \n",
        "0         2  \n",
        "1         2  \n",
        "2         2  \n",
        "3         2  \n",
        "4         2  \n"
       ]
      }
     ],
     "prompt_number": 3
    },
    {
     "cell_type": "code",
     "collapsed": false,
     "input": [
      "bidding_summary = pd.read_csv('nus_bidding_summary.csv')\n",
      "bidding_summary"
     ],
     "language": "python",
     "metadata": {},
     "outputs": [
      {
       "html": [
        "<pre>\n",
        "&ltclass 'pandas.core.frame.DataFrame'&gt\n",
        "Int64Index: 186143 entries, 0 to 186142\n",
        "Data columns (total 12 columns):\n",
        "Module             186143  non-null values\n",
        "Group              186143  non-null values\n",
        "Quota              186143  non-null values\n",
        "No_of_Bidders      186143  non-null values\n",
        "Lowest_Bid         186143  non-null values\n",
        "Lowest_Succ_Bid    186143  non-null values\n",
        "Highest_Bid        186143  non-null values\n",
        "Faculty            186143  non-null values\n",
        "Student_Type       186143  non-null values\n",
        "Bid_Round          186143  non-null values\n",
        "Acad_Yr            186143  non-null values\n",
        "Semester           186143  non-null values\n",
        "dtypes: int64(7), object(5)\n",
        "</pre>"
       ],
       "output_type": "pyout",
       "prompt_number": 4,
       "text": [
        "<class 'pandas.core.frame.DataFrame'>\n",
        "Int64Index: 186143 entries, 0 to 186142\n",
        "Data columns (total 12 columns):\n",
        "Module             186143  non-null values\n",
        "Group              186143  non-null values\n",
        "Quota              186143  non-null values\n",
        "No_of_Bidders      186143  non-null values\n",
        "Lowest_Bid         186143  non-null values\n",
        "Lowest_Succ_Bid    186143  non-null values\n",
        "Highest_Bid        186143  non-null values\n",
        "Faculty            186143  non-null values\n",
        "Student_Type       186143  non-null values\n",
        "Bid_Round          186143  non-null values\n",
        "Acad_Yr            186143  non-null values\n",
        "Semester           186143  non-null values\n",
        "dtypes: int64(7), object(5)"
       ]
      }
     ],
     "prompt_number": 4
    },
    {
     "cell_type": "code",
     "collapsed": false,
     "input": [
      "print(bidding_summary.head())"
     ],
     "language": "python",
     "metadata": {},
     "outputs": [
      {
       "output_type": "stream",
       "stream": "stdout",
       "text": [
        "     Module       Group  Quota  No_of_Bidders  Lowest_Bid  Lowest_Succ_Bid  \\\n",
        "0   ACC1002  LECTURE B1     18              0           0                0   \n",
        "1  ACC1002X  LECTURE B1     61              2           1                1   \n",
        "2  ACC1002X  LECTURE B1     27             18           1                1   \n",
        "3  ACC1002X  LECTURE B1     45             42           1                1   \n",
        "4  ACC1002X  LECTURE B1     30             56          51              327   \n",
        "\n",
        "   Highest_Bid              Faculty            Student_Type Bid_Round  \\\n",
        "0            0   SCHOOL OF BUSINESS  Returning Students [P]        1C   \n",
        "1           50          ENGINEERING  Returning Students [P]        1C   \n",
        "2         2264  SCHOOL OF COMPUTING  Returning Students [P]        1C   \n",
        "3          747          ENGINEERING        New Students [P]        1C   \n",
        "4          635  SCHOOL OF COMPUTING        New Students [P]        1C   \n",
        "\n",
        "    Acad_Yr  Semester  \n",
        "0  20112012         1  \n",
        "1  20112012         1  \n",
        "2  20112012         1  \n",
        "3  20112012         1  \n",
        "4  20112012         1  \n"
       ]
      }
     ],
     "prompt_number": 5
    },
    {
     "cell_type": "code",
     "collapsed": false,
     "input": [
      "bidding_activity.columns"
     ],
     "language": "python",
     "metadata": {},
     "outputs": [
      {
       "output_type": "pyout",
       "prompt_number": 6,
       "text": [
        "Index([Bid_Amount, Bid_ID, Time_of_Bid, Bid_Status, Group, Faculty, Student_Type, Account, Module, Bid_Round, Acad_Yr, Semester], dtype=object)"
       ]
      }
     ],
     "prompt_number": 6
    },
    {
     "cell_type": "code",
     "collapsed": false,
     "input": [
      "sort(list(set(bidding_activity.Student_Type)))"
     ],
     "language": "python",
     "metadata": {},
     "outputs": [
      {
       "output_type": "pyout",
       "prompt_number": 7,
       "text": [
        "array(['N', 'R', 'nan'], \n",
        "      dtype='<U3')"
       ]
      }
     ],
     "prompt_number": 7
    },
    {
     "cell_type": "code",
     "collapsed": false,
     "input": [
      "sort(list(set(bidding_summary.Student_Type)))"
     ],
     "language": "python",
     "metadata": {},
     "outputs": [
      {
       "output_type": "pyout",
       "prompt_number": 8,
       "text": [
        "array(['NUS Students [G]', 'NUS Students [PG]', 'NUS Students [P]',\n",
        "       'New Students [P]', 'Not Available for [G]',\n",
        "       'Reserved for [G] in later round', 'Returning Students [P]',\n",
        "       'Returning Students [P] and NUS Students [G]',\n",
        "       'Returning Students and New Students [P]'], \n",
        "      dtype='<U43')"
       ]
      }
     ],
     "prompt_number": 8
    },
    {
     "cell_type": "code",
     "collapsed": false,
     "input": [
      "bidding_summary.columns"
     ],
     "language": "python",
     "metadata": {},
     "outputs": [
      {
       "output_type": "pyout",
       "prompt_number": 9,
       "text": [
        "Index([Module, Group, Quota, No_of_Bidders, Lowest_Bid, Lowest_Succ_Bid, Highest_Bid, Faculty, Student_Type, Bid_Round, Acad_Yr, Semester], dtype=object)"
       ]
      }
     ],
     "prompt_number": 9
    },
    {
     "cell_type": "code",
     "collapsed": false,
     "input": [
      "bidding_activity.columns.intersection(bidding_summary.columns)"
     ],
     "language": "python",
     "metadata": {},
     "outputs": [
      {
       "output_type": "pyout",
       "prompt_number": 10,
       "text": [
        "Index([Module, Group, Faculty, Student_Type, Bid_Round, Acad_Yr, Semester], dtype=object)"
       ]
      }
     ],
     "prompt_number": 10
    },
    {
     "cell_type": "code",
     "collapsed": false,
     "input": [
      "list(bidding_activity.columns.intersection(bidding_summary.columns))"
     ],
     "language": "python",
     "metadata": {},
     "outputs": [
      {
       "output_type": "pyout",
       "prompt_number": 11,
       "text": [
        "['Module',\n",
        " 'Group',\n",
        " 'Faculty',\n",
        " 'Student_Type',\n",
        " 'Bid_Round',\n",
        " 'Acad_Yr',\n",
        " 'Semester']"
       ]
      }
     ],
     "prompt_number": 11
    },
    {
     "cell_type": "code",
     "collapsed": false,
     "input": [
      "((bidding_summary['Acad_Yr']==20122013) * (bidding_summary['Semester']==2)).sum()"
     ],
     "language": "python",
     "metadata": {},
     "outputs": [
      {
       "output_type": "pyout",
       "prompt_number": 12,
       "text": [
        "10886"
       ]
      }
     ],
     "prompt_number": 12
    },
    {
     "cell_type": "code",
     "collapsed": false,
     "input": [
      "print(bidding_summary[(bidding_summary['Acad_Yr']==20122013) * (bidding_summary['Semester']==2)].head())"
     ],
     "language": "python",
     "metadata": {},
     "outputs": [
      {
       "output_type": "stream",
       "stream": "stdout",
       "text": [
        "         Module       Group  Quota  No_of_Bidders  Lowest_Bid  \\\n",
        "20215   ACC1002  LECTURE V1     23              0           0   \n",
        "20216  ACC1002X  LECTURE X1     94            127           1   \n",
        "20217  ACC1002X  LECTURE X2     84            124           1   \n",
        "20218   ACC1006  LECTURE J1     31              1           1   \n",
        "20219   ACC2002  LECTURE K1     34             20           1   \n",
        "\n",
        "       Lowest_Succ_Bid  Highest_Bid             Faculty       Student_Type  \\\n",
        "20215                0            0  SCHOOL OF BUSINESS   NUS Students [P]   \n",
        "20216              655         4700  SCHOOL OF BUSINESS  NUS Students [PG]   \n",
        "20217              589         4555  SCHOOL OF BUSINESS  NUS Students [PG]   \n",
        "20218                1            1  SCHOOL OF BUSINESS  NUS Students [PG]   \n",
        "20219                1         2159  SCHOOL OF BUSINESS  NUS Students [PG]   \n",
        "\n",
        "      Bid_Round   Acad_Yr  Semester  \n",
        "20215        3A  20122013         2  \n",
        "20216        3A  20122013         2  \n",
        "20217        3A  20122013         2  \n",
        "20218        3A  20122013         2  \n",
        "20219        3A  20122013         2  \n"
       ]
      }
     ],
     "prompt_number": 13
    },
    {
     "cell_type": "code",
     "collapsed": false,
     "input": [
      "merge_fields = ['Module','Group','Faculty','Bid_Round','Acad_Yr','Semester']\n",
      "bid_info = pd.merge(bidding_activity,bidding_summary[(bidding_summary['Acad_Yr']==20122013) * (bidding_summary['Semester']==2)],\n",
      "                    left_on = merge_fields,\n",
      "                    right_on = merge_fields,\n",
      "                    suffixes = ['_bid', '_summary']) # Student_Type\n",
      "bid_info"
     ],
     "language": "python",
     "metadata": {},
     "outputs": [
      {
       "html": [
        "<pre>\n",
        "&ltclass 'pandas.core.frame.DataFrame'&gt\n",
        "Int64Index: 70035 entries, 0 to 70034\n",
        "Data columns (total 18 columns):\n",
        "Bid_Amount              70035  non-null values\n",
        "Bid_ID                  70035  non-null values\n",
        "Time_of_Bid             70035  non-null values\n",
        "Bid_Status              70035  non-null values\n",
        "Group                   70035  non-null values\n",
        "Faculty                 70035  non-null values\n",
        "Student_Type_bid        55668  non-null values\n",
        "Account                 55668  non-null values\n",
        "Module                  70035  non-null values\n",
        "Bid_Round               70035  non-null values\n",
        "Acad_Yr                 70035  non-null values\n",
        "Semester                70035  non-null values\n",
        "Quota                   70035  non-null values\n",
        "No_of_Bidders           70035  non-null values\n",
        "Lowest_Bid              70035  non-null values\n",
        "Lowest_Succ_Bid         70035  non-null values\n",
        "Highest_Bid             70035  non-null values\n",
        "Student_Type_summary    70035  non-null values\n",
        "dtypes: datetime64[ns](1), int64(8), object(9)\n",
        "</pre>"
       ],
       "output_type": "pyout",
       "prompt_number": 14,
       "text": [
        "<class 'pandas.core.frame.DataFrame'>\n",
        "Int64Index: 70035 entries, 0 to 70034\n",
        "Data columns (total 18 columns):\n",
        "Bid_Amount              70035  non-null values\n",
        "Bid_ID                  70035  non-null values\n",
        "Time_of_Bid             70035  non-null values\n",
        "Bid_Status              70035  non-null values\n",
        "Group                   70035  non-null values\n",
        "Faculty                 70035  non-null values\n",
        "Student_Type_bid        55668  non-null values\n",
        "Account                 55668  non-null values\n",
        "Module                  70035  non-null values\n",
        "Bid_Round               70035  non-null values\n",
        "Acad_Yr                 70035  non-null values\n",
        "Semester                70035  non-null values\n",
        "Quota                   70035  non-null values\n",
        "No_of_Bidders           70035  non-null values\n",
        "Lowest_Bid              70035  non-null values\n",
        "Lowest_Succ_Bid         70035  non-null values\n",
        "Highest_Bid             70035  non-null values\n",
        "Student_Type_summary    70035  non-null values\n",
        "dtypes: datetime64[ns](1), int64(8), object(9)"
       ]
      }
     ],
     "prompt_number": 14
    },
    {
     "cell_type": "code",
     "collapsed": false,
     "input": [
      "print(bid_info.head())"
     ],
     "language": "python",
     "metadata": {},
     "outputs": [
      {
       "output_type": "stream",
       "stream": "stdout",
       "text": [
        "   Bid_Amount        Bid_ID         Time_of_Bid Bid_Status        Group  \\\n",
        "0         100  B00004391322 2013-01-09 23:37:42          S  LECTURE SL1   \n",
        "1           1  B00004393160 2013-01-10 08:55:07          S  LECTURE SL1   \n",
        "2         843  B00004400492 2013-01-10 13:24:33          S    LECTURE 1   \n",
        "3         843  B00004400492 2013-01-10 13:24:33          S    LECTURE 1   \n",
        "4         500  B00004371243 2013-01-07 09:49:30          S    LECTURE 1   \n",
        "\n",
        "                  Faculty Student_Type_bid Account   Module Bid_Round  \\\n",
        "0                 SCIENCE              NaN     NaN  LSM3224        2A   \n",
        "1                 SCIENCE              NaN     NaN  LSM3224        2A   \n",
        "2  ARTS & SOCIAL SCIENCES              NaN     NaN   SC2211        2A   \n",
        "3  ARTS & SOCIAL SCIENCES              NaN     NaN   SC2211        2A   \n",
        "4  ARTS & SOCIAL SCIENCES              NaN     NaN   SC2211        2A   \n",
        "\n",
        "    Acad_Yr  Semester  Quota  No_of_Bidders  Lowest_Bid  Lowest_Succ_Bid  \\\n",
        "0  20122013         2     56              2           1                1   \n",
        "1  20122013         2     56              2           1                1   \n",
        "2  20122013         2     35             15           1                1   \n",
        "3  20122013         2      6              0           0                0   \n",
        "4  20122013         2     35             15           1                1   \n",
        "\n",
        "   Highest_Bid                     Student_Type_summary  \n",
        "0          100  Returning Students and New Students [P]  \n",
        "1          100  Returning Students and New Students [P]  \n",
        "2          843  Returning Students and New Students [P]  \n",
        "3            0                         NUS Students [G]  \n",
        "4          843  Returning Students and New Students [P]  \n"
       ]
      }
     ],
     "prompt_number": 31
    },
    {
     "cell_type": "code",
     "collapsed": false,
     "input": [
      "result = bid_info[bid_info['No_of_Bidders']>0] # filter out some of the entries that makes no sense\n",
      "result"
     ],
     "language": "python",
     "metadata": {},
     "outputs": [
      {
       "html": [
        "<pre>\n",
        "&ltclass 'pandas.core.frame.DataFrame'&gt\n",
        "Int64Index: 65278 entries, 0 to 70034\n",
        "Data columns (total 18 columns):\n",
        "Bid_Amount              65278  non-null values\n",
        "Bid_ID                  65278  non-null values\n",
        "Time_of_Bid             65278  non-null values\n",
        "Bid_Status              65278  non-null values\n",
        "Group                   65278  non-null values\n",
        "Faculty                 65278  non-null values\n",
        "Student_Type_bid        52081  non-null values\n",
        "Account                 52081  non-null values\n",
        "Module                  65278  non-null values\n",
        "Bid_Round               65278  non-null values\n",
        "Acad_Yr                 65278  non-null values\n",
        "Semester                65278  non-null values\n",
        "Quota                   65278  non-null values\n",
        "No_of_Bidders           65278  non-null values\n",
        "Lowest_Bid              65278  non-null values\n",
        "Lowest_Succ_Bid         65278  non-null values\n",
        "Highest_Bid             65278  non-null values\n",
        "Student_Type_summary    65278  non-null values\n",
        "dtypes: datetime64[ns](1), int64(8), object(9)\n",
        "</pre>"
       ],
       "output_type": "pyout",
       "prompt_number": 36,
       "text": [
        "<class 'pandas.core.frame.DataFrame'>\n",
        "Int64Index: 65278 entries, 0 to 70034\n",
        "Data columns (total 18 columns):\n",
        "Bid_Amount              65278  non-null values\n",
        "Bid_ID                  65278  non-null values\n",
        "Time_of_Bid             65278  non-null values\n",
        "Bid_Status              65278  non-null values\n",
        "Group                   65278  non-null values\n",
        "Faculty                 65278  non-null values\n",
        "Student_Type_bid        52081  non-null values\n",
        "Account                 52081  non-null values\n",
        "Module                  65278  non-null values\n",
        "Bid_Round               65278  non-null values\n",
        "Acad_Yr                 65278  non-null values\n",
        "Semester                65278  non-null values\n",
        "Quota                   65278  non-null values\n",
        "No_of_Bidders           65278  non-null values\n",
        "Lowest_Bid              65278  non-null values\n",
        "Lowest_Succ_Bid         65278  non-null values\n",
        "Highest_Bid             65278  non-null values\n",
        "Student_Type_summary    65278  non-null values\n",
        "dtypes: datetime64[ns](1), int64(8), object(9)"
       ]
      }
     ],
     "prompt_number": 36
    },
    {
     "cell_type": "code",
     "collapsed": false,
     "input": [
      "print(result.head())"
     ],
     "language": "python",
     "metadata": {},
     "outputs": [
      {
       "output_type": "stream",
       "stream": "stdout",
       "text": [
        "   Bid_Amount        Bid_ID         Time_of_Bid Bid_Status        Group  \\\n",
        "0         100  B00004391322 2013-01-09 23:37:42          S  LECTURE SL1   \n",
        "1           1  B00004393160 2013-01-10 08:55:07          S  LECTURE SL1   \n",
        "2         843  B00004400492 2013-01-10 13:24:33          S    LECTURE 1   \n",
        "4         500  B00004371243 2013-01-07 09:49:30          S    LECTURE 1   \n",
        "6         500  B00004380361 2013-01-09 11:23:27          S    LECTURE 1   \n",
        "\n",
        "                  Faculty Student_Type_bid Account   Module Bid_Round  \\\n",
        "0                 SCIENCE              NaN     NaN  LSM3224        2A   \n",
        "1                 SCIENCE              NaN     NaN  LSM3224        2A   \n",
        "2  ARTS & SOCIAL SCIENCES              NaN     NaN   SC2211        2A   \n",
        "4  ARTS & SOCIAL SCIENCES              NaN     NaN   SC2211        2A   \n",
        "6  ARTS & SOCIAL SCIENCES              NaN     NaN   SC2211        2A   \n",
        "\n",
        "    Acad_Yr  Semester  Quota  No_of_Bidders  Lowest_Bid  Lowest_Succ_Bid  \\\n",
        "0  20122013         2     56              2           1                1   \n",
        "1  20122013         2     56              2           1                1   \n",
        "2  20122013         2     35             15           1                1   \n",
        "4  20122013         2     35             15           1                1   \n",
        "6  20122013         2     35             15           1                1   \n",
        "\n",
        "   Highest_Bid                     Student_Type_summary  \n",
        "0          100  Returning Students and New Students [P]  \n",
        "1          100  Returning Students and New Students [P]  \n",
        "2          843  Returning Students and New Students [P]  \n",
        "4          843  Returning Students and New Students [P]  \n",
        "6          843  Returning Students and New Students [P]  \n"
       ]
      }
     ],
     "prompt_number": 37
    },
    {
     "cell_type": "code",
     "collapsed": false,
     "input": [
      "set(result.Student_Type_summary)"
     ],
     "language": "python",
     "metadata": {},
     "outputs": [
      {
       "output_type": "pyout",
       "prompt_number": 39,
       "text": [
        "set(['Returning Students and New Students [P]',\n",
        "     'New Students [P]',\n",
        "     'NUS Students [G]',\n",
        "     'Returning Students [P]'])"
       ]
      }
     ],
     "prompt_number": 39
    },
    {
     "cell_type": "code",
     "collapsed": false,
     "input": [
      "set(result.Student_Type_bid)"
     ],
     "language": "python",
     "metadata": {},
     "outputs": [
      {
       "output_type": "pyout",
       "prompt_number": 40,
       "text": [
        "set([nan, 'R', 'N'])"
       ]
      }
     ],
     "prompt_number": 40
    },
    {
     "cell_type": "code",
     "collapsed": false,
     "input": [
      "set(result.Account)"
     ],
     "language": "python",
     "metadata": {},
     "outputs": [
      {
       "output_type": "pyout",
       "prompt_number": 41,
       "text": [
        "set([nan, 'P'])"
       ]
      }
     ],
     "prompt_number": 41
    },
    {
     "cell_type": "code",
     "collapsed": false,
     "input": [
      "result.to_csv('nus_bidding_information.csv',index=False)"
     ],
     "language": "python",
     "metadata": {},
     "outputs": [],
     "prompt_number": 38
    },
    {
     "cell_type": "code",
     "collapsed": false,
     "input": [
      "def summarise(df):\n",
      "    print(df.head())\n",
      "    print(df.tail())\n",
      "\n",
      "summarise(bidding_activity)"
     ],
     "language": "python",
     "metadata": {},
     "outputs": [
      {
       "output_type": "stream",
       "stream": "stdout",
       "text": [
        "                     Bid_Amount        Bid_ID Bid_Status        Group  \\\n",
        "Timestamp                                                               \n",
        "2013-01-03 09:01:32         500  B00004283320          S    LECTURE 1   \n",
        "2013-01-03 09:01:44           2  B00004283321          S    LECTURE 1   \n",
        "2013-01-03 09:01:52           1  B00004283323          S  LECTURE SL1   \n",
        "2013-01-03 09:01:56           1  B00004283324          S    LECTURE 1   \n",
        "2013-01-03 09:01:56           1  B00004283325          S    LECTURE 1   \n",
        "\n",
        "                         Faculty Student_Type Account   Module Bid_Round  \\\n",
        "Timestamp                                                                  \n",
        "2013-01-03 09:01:32  ENGINEERING            R       P  CN4210E        1A   \n",
        "2013-01-03 09:01:44  ENGINEERING            R       P  ME3241E        1A   \n",
        "2013-01-03 09:01:52      SCIENCE            R       P   CM4236        1A   \n",
        "2013-01-03 09:01:56  ENGINEERING            R       P   TM3101        1A   \n",
        "2013-01-03 09:01:56  ENGINEERING            R       P  ME2143E        1A   \n",
        "\n",
        "                      Acad_Yr  Semester  \n",
        "Timestamp                                \n",
        "2013-01-03 09:01:32  20122013         2  \n",
        "2013-01-03 09:01:44  20122013         2  \n",
        "2013-01-03 09:01:52  20122013         2  \n",
        "2013-01-03 09:01:56  20122013         2  \n",
        "2013-01-03 09:01:56  20122013         2  \n",
        "                     Bid_Amount        Bid_ID Bid_Status      Group Faculty  \\\n",
        "Timestamp                                                                     \n",
        "2013-01-15 16:59:46         298  B00004462535          S  LECTURE 1     NUS   \n",
        "2013-01-15 16:59:48         651  B00004462533          S  LECTURE 1     NUS   \n",
        "2013-01-15 16:59:49           1  B00004462534          S  LECTURE 1     NUS   \n",
        "2013-01-15 16:59:50           1  B00004462537          S  LECTURE 1     NUS   \n",
        "2013-01-15 16:59:53         393  B00004462536          S  LECTURE 1     NUS   \n",
        "\n",
        "                    Student_Type Account   Module Bid_Round   Acad_Yr  \\\n",
        "Timestamp                                                               \n",
        "2013-01-15 16:59:46          NaN       P   SW2104        3B  20122013   \n",
        "2013-01-15 16:59:48          NaN       P  LAM1201        3B  20122013   \n",
        "2013-01-15 16:59:49          NaN       P  SW1101E        3B  20122013   \n",
        "2013-01-15 16:59:50          NaN       P   EE4213        3B  20122013   \n",
        "2013-01-15 16:59:53          NaN       P   EU2221        3B  20122013   \n",
        "\n",
        "                     Semester  \n",
        "Timestamp                      \n",
        "2013-01-15 16:59:46         2  \n",
        "2013-01-15 16:59:48         2  \n",
        "2013-01-15 16:59:49         2  \n",
        "2013-01-15 16:59:50         2  \n",
        "2013-01-15 16:59:53         2  \n"
       ]
      }
     ],
     "prompt_number": 61
    }
   ],
   "metadata": {}
  }
 ]
}